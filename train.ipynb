{
 "cells": [
  {
   "cell_type": "markdown",
   "metadata": {},
   "source": [
    "## Train the CNN model for age and gender estimation\n",
    "\n",
    "Note: adapted from train.py"
   ]
  },
  {
   "cell_type": "code",
   "execution_count": 1,
   "metadata": {},
   "outputs": [
    {
     "name": "stderr",
     "output_type": "stream",
     "text": [
      "Using TensorFlow backend.\n"
     ]
    }
   ],
   "source": [
    "import pandas as pd\n",
    "import logging\n",
    "import argparse\n",
    "from pathlib import Path\n",
    "import numpy as np\n",
    "from keras.callbacks import LearningRateScheduler, ModelCheckpoint\n",
    "from keras.optimizers import SGD, Adam\n",
    "from keras.utils import np_utils\n",
    "from wide_resnet import WideResNet\n",
    "from utils import load_data\n",
    "from keras.preprocessing.image import ImageDataGenerator\n",
    "from mixup_generator import MixupGenerator\n",
    "from random_eraser import get_random_eraser\n",
    "\n",
    "logging.basicConfig(level=logging.DEBUG)\n",
    "\n",
    "import os"
   ]
  },
  {
   "cell_type": "code",
   "execution_count": 2,
   "metadata": {},
   "outputs": [],
   "source": [
    "# Select GPU device\n",
    "os.environ[\"CUDA_VISIBLE_DEVICES\"]=\"0\" # first gpu"
   ]
  },
  {
   "cell_type": "code",
   "execution_count": 3,
   "metadata": {},
   "outputs": [],
   "source": [
    "class Schedule:\n",
    "    def __init__(self, nb_epochs, initial_lr):\n",
    "        self.epochs = nb_epochs\n",
    "        self.initial_lr = initial_lr\n",
    "\n",
    "    def __call__(self, epoch_idx):\n",
    "        if epoch_idx < self.epochs * 0.25:\n",
    "            return self.initial_lr\n",
    "        elif epoch_idx < self.epochs * 0.50:\n",
    "            return self.initial_lr * 0.2\n",
    "        elif epoch_idx < self.epochs * 0.75:\n",
    "            return self.initial_lr * 0.04\n",
    "        return self.initial_lr * 0.008\n",
    "\n",
    "\n",
    "def get_optimizer(opt_name, lr):\n",
    "    if opt_name == \"sgd\":\n",
    "        return SGD(lr=lr, momentum=0.9, nesterov=True)\n",
    "    elif opt_name == \"adam\":\n",
    "        return Adam(lr=lr)\n",
    "    else:\n",
    "        raise ValueError(\"optimizer name should be 'sgd' or 'adam'\")"
   ]
  },
  {
   "cell_type": "markdown",
   "metadata": {},
   "source": [
    "### Arguments: default values"
   ]
  },
  {
   "cell_type": "code",
   "execution_count": 4,
   "metadata": {},
   "outputs": [],
   "source": [
    "##help:    path to input database mat file\n",
    "args_input = \"data/imdb_db.mat\"\n",
    "##help:    batch size\n",
    "args_batch_size = 32\n",
    "##help:    number of epochs\n",
    "args_nb_epochs = 30\n",
    "##help:    initial learning rate\n",
    "args_lr = 0.1\n",
    "##help:    optimizer name; 'sgd' or 'adam'\n",
    "args_opt = \"sgd\"\n",
    "##help:    depth of network (should be 10, 16, 22, 28, ...)\n",
    "args_depth = 16\n",
    "##help:    width of network\n",
    "args_width = 8\n",
    "##help:    validation split ratio\n",
    "args_validation_split = 0.1\n",
    "##help:    use data augmentation if set true\n",
    "args_aug = True\n",
    "##help:    checkpoint dir\n",
    "args_output_path = \"checkpoints\""
   ]
  },
  {
   "cell_type": "code",
   "execution_count": 10,
   "metadata": {},
   "outputs": [],
   "source": [
    "# args = get_args()\n",
    "input_path = args_input\n",
    "batch_size = args_batch_size\n",
    "nb_epochs = args_nb_epochs\n",
    "lr = args_lr\n",
    "opt_name = args_opt\n",
    "depth = args_depth\n",
    "k = args_width\n",
    "validation_split = args_validation_split\n",
    "use_augmentation = args_aug\n",
    "\n",
    "current_nb_path = os.getcwd()\n",
    "output_path = Path(current_nb_path).resolve().parent.joinpath(args_output_path)\n",
    "output_path.mkdir(parents=True, exist_ok=True)"
   ]
  },
  {
   "cell_type": "code",
   "execution_count": 11,
   "metadata": {},
   "outputs": [
    {
     "name": "stderr",
     "output_type": "stream",
     "text": [
      "DEBUG:root:Loading data...\n"
     ]
    }
   ],
   "source": [
    "logging.debug(\"Loading data...\")\n",
    "image, gender, age, _, image_size, _ = load_data(input_path)\n",
    "X_data = image\n",
    "y_data_g = np_utils.to_categorical(gender, 2)\n",
    "y_data_a = np_utils.to_categorical(age, 101)"
   ]
  },
  {
   "cell_type": "code",
   "execution_count": 12,
   "metadata": {},
   "outputs": [
    {
     "name": "stderr",
     "output_type": "stream",
     "text": [
      "DEBUG:root:image_dim_ordering = 'tf'\n",
      "DEBUG:root:Creating model...\n",
      "DEBUG:root:Model summary...\n"
     ]
    },
    {
     "name": "stdout",
     "output_type": "stream",
     "text": [
      "Model: \"model_1\"\n",
      "__________________________________________________________________________________________________\n",
      "Layer (type)                    Output Shape         Param #     Connected to                     \n",
      "==================================================================================================\n",
      "input_1 (InputLayer)            (None, 64, 64, 3)    0                                            \n",
      "__________________________________________________________________________________________________\n",
      "conv2d_1 (Conv2D)               (None, 64, 64, 16)   432         input_1[0][0]                    \n",
      "__________________________________________________________________________________________________\n",
      "batch_normalization_1 (BatchNor (None, 64, 64, 16)   64          conv2d_1[0][0]                   \n",
      "__________________________________________________________________________________________________\n",
      "activation_1 (Activation)       (None, 64, 64, 16)   0           batch_normalization_1[0][0]      \n",
      "__________________________________________________________________________________________________\n",
      "conv2d_2 (Conv2D)               (None, 64, 64, 128)  18432       activation_1[0][0]               \n",
      "__________________________________________________________________________________________________\n",
      "batch_normalization_2 (BatchNor (None, 64, 64, 128)  512         conv2d_2[0][0]                   \n",
      "__________________________________________________________________________________________________\n",
      "activation_2 (Activation)       (None, 64, 64, 128)  0           batch_normalization_2[0][0]      \n",
      "__________________________________________________________________________________________________\n",
      "conv2d_3 (Conv2D)               (None, 64, 64, 128)  147456      activation_2[0][0]               \n",
      "__________________________________________________________________________________________________\n",
      "conv2d_4 (Conv2D)               (None, 64, 64, 128)  2048        activation_1[0][0]               \n",
      "__________________________________________________________________________________________________\n",
      "add_1 (Add)                     (None, 64, 64, 128)  0           conv2d_3[0][0]                   \n",
      "                                                                 conv2d_4[0][0]                   \n",
      "__________________________________________________________________________________________________\n",
      "batch_normalization_3 (BatchNor (None, 64, 64, 128)  512         add_1[0][0]                      \n",
      "__________________________________________________________________________________________________\n",
      "activation_3 (Activation)       (None, 64, 64, 128)  0           batch_normalization_3[0][0]      \n",
      "__________________________________________________________________________________________________\n",
      "conv2d_5 (Conv2D)               (None, 64, 64, 128)  147456      activation_3[0][0]               \n",
      "__________________________________________________________________________________________________\n",
      "batch_normalization_4 (BatchNor (None, 64, 64, 128)  512         conv2d_5[0][0]                   \n",
      "__________________________________________________________________________________________________\n",
      "activation_4 (Activation)       (None, 64, 64, 128)  0           batch_normalization_4[0][0]      \n",
      "__________________________________________________________________________________________________\n",
      "conv2d_6 (Conv2D)               (None, 64, 64, 128)  147456      activation_4[0][0]               \n",
      "__________________________________________________________________________________________________\n",
      "add_2 (Add)                     (None, 64, 64, 128)  0           conv2d_6[0][0]                   \n",
      "                                                                 add_1[0][0]                      \n",
      "__________________________________________________________________________________________________\n",
      "batch_normalization_5 (BatchNor (None, 64, 64, 128)  512         add_2[0][0]                      \n",
      "__________________________________________________________________________________________________\n",
      "activation_5 (Activation)       (None, 64, 64, 128)  0           batch_normalization_5[0][0]      \n",
      "__________________________________________________________________________________________________\n",
      "conv2d_7 (Conv2D)               (None, 32, 32, 256)  294912      activation_5[0][0]               \n",
      "__________________________________________________________________________________________________\n",
      "batch_normalization_6 (BatchNor (None, 32, 32, 256)  1024        conv2d_7[0][0]                   \n",
      "__________________________________________________________________________________________________\n",
      "activation_6 (Activation)       (None, 32, 32, 256)  0           batch_normalization_6[0][0]      \n",
      "__________________________________________________________________________________________________\n",
      "conv2d_8 (Conv2D)               (None, 32, 32, 256)  589824      activation_6[0][0]               \n",
      "__________________________________________________________________________________________________\n",
      "conv2d_9 (Conv2D)               (None, 32, 32, 256)  32768       activation_5[0][0]               \n",
      "__________________________________________________________________________________________________\n",
      "add_3 (Add)                     (None, 32, 32, 256)  0           conv2d_8[0][0]                   \n",
      "                                                                 conv2d_9[0][0]                   \n",
      "__________________________________________________________________________________________________\n",
      "batch_normalization_7 (BatchNor (None, 32, 32, 256)  1024        add_3[0][0]                      \n",
      "__________________________________________________________________________________________________\n",
      "activation_7 (Activation)       (None, 32, 32, 256)  0           batch_normalization_7[0][0]      \n",
      "__________________________________________________________________________________________________\n",
      "conv2d_10 (Conv2D)              (None, 32, 32, 256)  589824      activation_7[0][0]               \n",
      "__________________________________________________________________________________________________\n",
      "batch_normalization_8 (BatchNor (None, 32, 32, 256)  1024        conv2d_10[0][0]                  \n",
      "__________________________________________________________________________________________________\n",
      "activation_8 (Activation)       (None, 32, 32, 256)  0           batch_normalization_8[0][0]      \n",
      "__________________________________________________________________________________________________\n",
      "conv2d_11 (Conv2D)              (None, 32, 32, 256)  589824      activation_8[0][0]               \n",
      "__________________________________________________________________________________________________\n",
      "add_4 (Add)                     (None, 32, 32, 256)  0           conv2d_11[0][0]                  \n",
      "                                                                 add_3[0][0]                      \n",
      "__________________________________________________________________________________________________\n",
      "batch_normalization_9 (BatchNor (None, 32, 32, 256)  1024        add_4[0][0]                      \n",
      "__________________________________________________________________________________________________\n",
      "activation_9 (Activation)       (None, 32, 32, 256)  0           batch_normalization_9[0][0]      \n",
      "__________________________________________________________________________________________________\n",
      "conv2d_12 (Conv2D)              (None, 16, 16, 512)  1179648     activation_9[0][0]               \n",
      "__________________________________________________________________________________________________\n",
      "batch_normalization_10 (BatchNo (None, 16, 16, 512)  2048        conv2d_12[0][0]                  \n",
      "__________________________________________________________________________________________________\n",
      "activation_10 (Activation)      (None, 16, 16, 512)  0           batch_normalization_10[0][0]     \n",
      "__________________________________________________________________________________________________\n",
      "conv2d_13 (Conv2D)              (None, 16, 16, 512)  2359296     activation_10[0][0]              \n",
      "__________________________________________________________________________________________________\n",
      "conv2d_14 (Conv2D)              (None, 16, 16, 512)  131072      activation_9[0][0]               \n",
      "__________________________________________________________________________________________________\n",
      "add_5 (Add)                     (None, 16, 16, 512)  0           conv2d_13[0][0]                  \n",
      "                                                                 conv2d_14[0][0]                  \n",
      "__________________________________________________________________________________________________\n",
      "batch_normalization_11 (BatchNo (None, 16, 16, 512)  2048        add_5[0][0]                      \n",
      "__________________________________________________________________________________________________\n",
      "activation_11 (Activation)      (None, 16, 16, 512)  0           batch_normalization_11[0][0]     \n",
      "__________________________________________________________________________________________________\n",
      "conv2d_15 (Conv2D)              (None, 16, 16, 512)  2359296     activation_11[0][0]              \n",
      "__________________________________________________________________________________________________\n",
      "batch_normalization_12 (BatchNo (None, 16, 16, 512)  2048        conv2d_15[0][0]                  \n",
      "__________________________________________________________________________________________________\n",
      "activation_12 (Activation)      (None, 16, 16, 512)  0           batch_normalization_12[0][0]     \n",
      "__________________________________________________________________________________________________\n",
      "conv2d_16 (Conv2D)              (None, 16, 16, 512)  2359296     activation_12[0][0]              \n",
      "__________________________________________________________________________________________________\n",
      "add_6 (Add)                     (None, 16, 16, 512)  0           conv2d_16[0][0]                  \n",
      "                                                                 add_5[0][0]                      \n",
      "__________________________________________________________________________________________________\n",
      "batch_normalization_13 (BatchNo (None, 16, 16, 512)  2048        add_6[0][0]                      \n",
      "__________________________________________________________________________________________________\n",
      "activation_13 (Activation)      (None, 16, 16, 512)  0           batch_normalization_13[0][0]     \n",
      "__________________________________________________________________________________________________\n",
      "average_pooling2d_1 (AveragePoo (None, 16, 16, 512)  0           activation_13[0][0]              \n",
      "__________________________________________________________________________________________________\n",
      "flatten_1 (Flatten)             (None, 131072)       0           average_pooling2d_1[0][0]        \n",
      "__________________________________________________________________________________________________\n",
      "pred_gender (Dense)             (None, 2)            262144      flatten_1[0][0]                  \n",
      "__________________________________________________________________________________________________\n",
      "pred_age (Dense)                (None, 101)          13238272    flatten_1[0][0]                  \n",
      "==================================================================================================\n",
      "Total params: 24,463,856\n",
      "Trainable params: 24,456,656\n",
      "Non-trainable params: 7,200\n",
      "__________________________________________________________________________________________________\n"
     ]
    }
   ],
   "source": [
    "model = WideResNet(image_size, depth=depth, k=k)()\n",
    "opt = get_optimizer(opt_name, lr)\n",
    "model.compile(optimizer=opt, loss=[\"categorical_crossentropy\", \"categorical_crossentropy\"],\n",
    "              metrics=['accuracy'])\n",
    "\n",
    "logging.debug(\"Model summary...\")\n",
    "model.count_params()\n",
    "model.summary()\n",
    "\n",
    "callbacks = [LearningRateScheduler(schedule=Schedule(nb_epochs, lr)),\n",
    "             ModelCheckpoint(str(output_path) + \"/weights.{epoch:02d}-{val_loss:.2f}.hdf5\",\n",
    "                             monitor=\"val_loss\",\n",
    "                             verbose=1,\n",
    "                             save_best_only=True,\n",
    "                             mode=\"auto\")\n",
    "             ]"
   ]
  },
  {
   "cell_type": "code",
   "execution_count": null,
   "metadata": {},
   "outputs": [
    {
     "name": "stderr",
     "output_type": "stream",
     "text": [
      "DEBUG:root:Running training...\n"
     ]
    }
   ],
   "source": [
    "logging.debug(\"Running training...\")\n",
    "\n",
    "data_num = len(X_data)\n",
    "indexes = np.arange(data_num)\n",
    "np.random.shuffle(indexes)\n",
    "X_data = X_data[indexes]\n",
    "y_data_g = y_data_g[indexes]\n",
    "y_data_a = y_data_a[indexes]\n",
    "train_num = int(data_num * (1 - validation_split))\n",
    "X_train = X_data[:train_num]\n",
    "X_test = X_data[train_num:]\n",
    "y_train_g = y_data_g[:train_num]\n",
    "y_test_g = y_data_g[train_num:]\n",
    "y_train_a = y_data_a[:train_num]\n",
    "y_test_a = y_data_a[train_num:]\n",
    "\n",
    "if use_augmentation:\n",
    "    datagen = ImageDataGenerator(\n",
    "        width_shift_range=0.1,\n",
    "        height_shift_range=0.1,\n",
    "        horizontal_flip=True,\n",
    "        preprocessing_function=get_random_eraser(v_l=0, v_h=255))\n",
    "    training_generator = MixupGenerator(X_train, [y_train_g, y_train_a], batch_size=batch_size, alpha=0.2,\n",
    "                                        datagen=datagen)()\n",
    "    hist = model.fit_generator(generator=training_generator,\n",
    "                               steps_per_epoch=train_num // batch_size,\n",
    "                               validation_data=(X_test, [y_test_g, y_test_a]),\n",
    "                               epochs=nb_epochs, verbose=1,\n",
    "                               callbacks=callbacks)\n",
    "else:\n",
    "    hist = model.fit(X_train, [y_train_g, y_train_a], batch_size=batch_size, epochs=nb_epochs, callbacks=callbacks,\n",
    "                     validation_data=(X_test, [y_test_g, y_test_a]))\n",
    "    \n",
    "logging.debug(\"Saving history...\")\n",
    "pd.DataFrame(hist.history).to_hdf(output_path.joinpath(\"history_{}_{}.h5\".format(depth, k)), \"history\")"
   ]
  }
 ],
 "metadata": {
  "kernelspec": {
   "display_name": "Python 3",
   "language": "python",
   "name": "python3"
  },
  "language_info": {
   "codemirror_mode": {
    "name": "ipython",
    "version": 3
   },
   "file_extension": ".py",
   "mimetype": "text/x-python",
   "name": "python",
   "nbconvert_exporter": "python",
   "pygments_lexer": "ipython3",
   "version": "3.6.8"
  }
 },
 "nbformat": 4,
 "nbformat_minor": 2
}
