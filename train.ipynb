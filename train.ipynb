{
 "cells": [
  {
   "cell_type": "markdown",
   "metadata": {},
   "source": [
    "## Train the CNN model for age and gender estimation\n",
    "\n",
    "Note: adapted from train.py"
   ]
  },
  {
   "cell_type": "code",
   "execution_count": null,
   "metadata": {},
   "outputs": [],
   "source": [
    "import pandas as pd\n",
    "import logging\n",
    "import argparse\n",
    "from pathlib import Path\n",
    "import numpy as np\n",
    "from keras.callbacks import LearningRateScheduler, ModelCheckpoint\n",
    "from keras.optimizers import SGD, Adam\n",
    "from keras.utils import np_utils\n",
    "from wide_resnet import WideResNet\n",
    "from utils import load_data\n",
    "from keras.preprocessing.image import ImageDataGenerator\n",
    "from mixup_generator import MixupGenerator\n",
    "from random_eraser import get_random_eraser\n",
    "\n",
    "logging.basicConfig(level=logging.DEBUG)\n",
    "\n",
    "import os\n",
    "from keras.callbacks import TensorBoard, ReduceLROnPlateau, EarlyStopping\n",
    "from keras.layers import core"
   ]
  },
  {
   "cell_type": "code",
   "execution_count": null,
   "metadata": {},
   "outputs": [],
   "source": [
    "# Select GPU device\n",
    "os.environ[\"CUDA_VISIBLE_DEVICES\"]=\"0\" # first gpu"
   ]
  },
  {
   "cell_type": "code",
   "execution_count": null,
   "metadata": {},
   "outputs": [],
   "source": [
    "class Schedule:\n",
    "    def __init__(self, nb_epochs, initial_lr):\n",
    "        self.epochs = nb_epochs\n",
    "        self.initial_lr = initial_lr\n",
    "\n",
    "    def __call__(self, epoch_idx):\n",
    "        if epoch_idx < self.epochs * 0.25:\n",
    "            return self.initial_lr\n",
    "        elif epoch_idx < self.epochs * 0.50:\n",
    "            return self.initial_lr * 0.2\n",
    "        elif epoch_idx < self.epochs * 0.75:\n",
    "            return self.initial_lr * 0.04\n",
    "        return self.initial_lr * 0.008\n",
    "\n",
    "\n",
    "def get_optimizer(opt_name, lr):\n",
    "    if opt_name == \"sgd\":\n",
    "        return SGD(lr=lr, momentum=0.9, nesterov=True)\n",
    "    elif opt_name == \"adam\":\n",
    "        return Adam(lr=lr)\n",
    "    else:\n",
    "        raise ValueError(\"optimizer name should be 'sgd' or 'adam'\")"
   ]
  },
  {
   "cell_type": "markdown",
   "metadata": {},
   "source": [
    "### Arguments: default values"
   ]
  },
  {
   "cell_type": "code",
   "execution_count": null,
   "metadata": {},
   "outputs": [],
   "source": [
    "##help:    path to input database mat file\n",
    "args_input = \"data/imdb_db.mat\"\n",
    "##help:    batch size\n",
    "args_batch_size = 32\n",
    "##help:    number of epochs\n",
    "args_nb_epochs = 30\n",
    "##help:    initial learning rate\n",
    "args_lr = 0.1\n",
    "##help:    optimizer name; 'sgd' or 'adam'\n",
    "args_opt = \"sgd\"\n",
    "##help:    depth of network (should be 10, 16, 22, 28, ...)\n",
    "args_depth = 16\n",
    "##help:    width of network\n",
    "args_width = 8\n",
    "##help:    validation split ratio\n",
    "args_validation_split = 0.1\n",
    "##help:    use data augmentation if set true\n",
    "args_aug = True\n",
    "##help:    checkpoint dir\n",
    "args_output_path = \"checkpoints\""
   ]
  },
  {
   "cell_type": "code",
   "execution_count": null,
   "metadata": {},
   "outputs": [],
   "source": [
    "# args = get_args()\n",
    "input_path = args_input\n",
    "batch_size = args_batch_size\n",
    "nb_epochs = args_nb_epochs\n",
    "lr = args_lr\n",
    "opt_name = args_opt\n",
    "depth = args_depth\n",
    "k = args_width\n",
    "validation_split = args_validation_split\n",
    "use_augmentation = args_aug\n",
    "\n",
    "current_nb_path = os.getcwd()\n",
    "output_path = Path(current_nb_path).resolve().parent.joinpath(args_output_path)\n",
    "output_path.mkdir(parents=True, exist_ok=True)"
   ]
  },
  {
   "cell_type": "code",
   "execution_count": null,
   "metadata": {},
   "outputs": [],
   "source": [
    "logging.debug(\"Loading data...\")\n",
    "image, gender, age, _, image_size, _ = load_data(input_path)\n",
    "X_data = image\n",
    "y_data_g = np_utils.to_categorical(gender, 2)\n",
    "y_data_a = np_utils.to_categorical(age, 101)"
   ]
  },
  {
   "cell_type": "code",
   "execution_count": null,
   "metadata": {},
   "outputs": [],
   "source": [
    "model = WideResNet(image_size, depth=depth, k=k)()\n",
    "opt = get_optimizer(opt_name, lr)\n",
    "\n",
    "classification_layers = [layer.name for layer in model.layers[-2:] if type(layer) is core.Dense]\n",
    "age_only = len(classification_layers) == 1 and \"pred_age\" in classification_layers\n",
    "\n",
    "if age_only:\n",
    "    model_loss = \"categorical_crossentropy\"\n",
    "else:\n",
    "    model_loss = [\"categorical_crossentropy\", \"categorical_crossentropy\"]\n",
    "model.compile(optimizer=opt, loss=model_loss,\n",
    "              metrics=['accuracy'])\n",
    "\n",
    "logging.debug(\"Model summary...\")\n",
    "model.count_params()\n",
    "model.summary()"
   ]
  },
  {
   "cell_type": "code",
   "execution_count": null,
   "metadata": {},
   "outputs": [],
   "source": [
    "log_dir = 'logs/001/'"
   ]
  },
  {
   "cell_type": "code",
   "execution_count": null,
   "metadata": {},
   "outputs": [],
   "source": [
    "# callbacks = [LearningRateScheduler(schedule=Schedule(nb_epochs, lr)),\n",
    "#              ModelCheckpoint(str(output_path) + \"/weights.{epoch:02d}-{val_loss:.2f}.hdf5\",\n",
    "#                              monitor=\"val_loss\",\n",
    "#                              verbose=1,\n",
    "#                              save_best_only=True,\n",
    "#                              mode=\"auto\")\n",
    "#              ]\n",
    "\n",
    "tb_logging = TensorBoard(log_dir=log_dir)\n",
    "checkpoint = ModelCheckpoint(log_dir + 'ep{epoch:03d}-loss{loss:.3f}-val_loss{val_loss:.3f}.h5',\n",
    "    monitor='val_loss', save_weights_only=True, save_best_only=True, period=3)\n",
    "reduce_lr = ReduceLROnPlateau(monitor='val_loss', factor=0.1, patience=3, verbose=1)\n",
    "early_stopping = EarlyStopping(monitor='val_loss', min_delta=0, patience=10, verbose=1)\n",
    "\n",
    "callbacks=[tb_logging, checkpoint, reduce_lr, early_stopping]"
   ]
  },
  {
   "cell_type": "code",
   "execution_count": null,
   "metadata": {},
   "outputs": [],
   "source": [
    "logging.debug(\"Running training...\")\n",
    "\n",
    "data_num = len(X_data)\n",
    "indexes = np.arange(data_num)\n",
    "np.random.shuffle(indexes)\n",
    "X_data = X_data[indexes]\n",
    "y_data_g = y_data_g[indexes]\n",
    "y_data_a = y_data_a[indexes]\n",
    "train_num = int(data_num * (1 - validation_split))\n",
    "X_train = X_data[:train_num]\n",
    "X_test = X_data[train_num:]\n",
    "y_train_g = y_data_g[:train_num]\n",
    "y_test_g = y_data_g[train_num:]\n",
    "y_train_a = y_data_a[:train_num]\n",
    "y_test_a = y_data_a[train_num:]\n",
    "\n",
    "if age_only:\n",
    "    train_labels = y_train_a\n",
    "    test_labels = y_test_a\n",
    "else:\n",
    "    train_labels = [y_train_g, y_train_a]\n",
    "    test_labels = [y_test_g, y_test_a]\n",
    "\n",
    "if use_augmentation:\n",
    "    datagen = ImageDataGenerator(\n",
    "        width_shift_range=0.1,\n",
    "        height_shift_range=0.1,\n",
    "        horizontal_flip=True,\n",
    "        preprocessing_function=get_random_eraser(v_l=0, v_h=255))\n",
    "    training_generator = MixupGenerator(X_train, train_labels, batch_size=batch_size, alpha=0.2,\n",
    "                                        datagen=datagen)()\n",
    "    hist = model.fit_generator(generator=training_generator,\n",
    "                               steps_per_epoch=train_num // batch_size,\n",
    "                               validation_data=(X_test, test_labels),\n",
    "                               epochs=nb_epochs, verbose=1,\n",
    "                               callbacks=callbacks)\n",
    "else:\n",
    "    hist = model.fit(X_train, train_labels, batch_size=batch_size, epochs=nb_epochs, callbacks=callbacks,\n",
    "                     validation_data=(X_test, test_labels))\n",
    "    \n",
    "logging.debug(\"Saving history...\")\n",
    "pd.DataFrame(hist.history).to_hdf(output_path.joinpath(\"history_{}_{}.h5\".format(depth, k)), \"history\")"
   ]
  },
  {
   "cell_type": "markdown",
   "metadata": {},
   "source": [
    "### Load history"
   ]
  },
  {
   "cell_type": "code",
   "execution_count": null,
   "metadata": {},
   "outputs": [],
   "source": [
    "import os\n",
    "import pandas as pd\n",
    "import matplotlib.pyplot as plt"
   ]
  },
  {
   "cell_type": "code",
   "execution_count": null,
   "metadata": {},
   "outputs": [],
   "source": [
    "input_dir = \"/home/biometrics/Krit/__backup_age-gender-estimation/01_ageonly_lr_1e-1_ep30\"\n",
    "hdf_filename = \"history_16_8.h5\"\n",
    "\n",
    "history_df = pd.read_hdf(os.path.join(input_dir, hdf_filename))"
   ]
  },
  {
   "cell_type": "code",
   "execution_count": null,
   "metadata": {},
   "outputs": [],
   "source": [
    "history_df.tail()"
   ]
  },
  {
   "cell_type": "code",
   "execution_count": null,
   "metadata": {},
   "outputs": [],
   "source": [
    "def save_figure(history_df, output, key_prefix, save_dir):\n",
    "    if len(key_prefix) > 0:\n",
    "        key_prefix = key_prefix + \"_\"\n",
    "    plt.cla()\n",
    "    plt.plot(history_df[key_prefix + \"loss\"], label=\"loss (\" + output + \")\")\n",
    "    plt.plot(history_df[\"val_\" + key_prefix + \"loss\"], label=\"val_loss (\" + output + \")\")\n",
    "    plt.xlabel(\"number of epochs\")\n",
    "    plt.ylabel(\"loss\")\n",
    "    plt.legend()\n",
    "    plt.savefig(os.path.join(save_dir, \"loss.png\"))\n",
    "\n",
    "    key_acc = \"acc\" if key_prefix + \"acc\" in history_df.columns else \"accuracy\"\n",
    "    plt.cla()\n",
    "    plt.plot(history_df[key_prefix + key_acc], label=\"accuracy (\" + output + \")\")\n",
    "    plt.plot(history_df[\"val_\" + key_prefix + key_acc], label=\"val_accuracy (\" + output + \")\")\n",
    "    plt.xlabel(\"number of epochs\")\n",
    "    plt.ylabel(\"accuracy\")\n",
    "    plt.legend()\n",
    "    plt.savefig(os.path.join(save_dir, \"accuracy.png\"))"
   ]
  },
  {
   "cell_type": "code",
   "execution_count": null,
   "metadata": {},
   "outputs": [],
   "source": [
    "output = \"\"; key_prefix = \"\";\n",
    "# output = \"gender\"; key_prefix = \"pred_\" + output;\n",
    "# output = \"age\"; key_prefix = \"pred_\" + output;\n",
    "save_figure(history_df, output, key_prefix, input_dir)"
   ]
  },
  {
   "cell_type": "code",
   "execution_count": null,
   "metadata": {},
   "outputs": [],
   "source": []
  }
 ],
 "metadata": {
  "kernelspec": {
   "display_name": "Python 3",
   "language": "python",
   "name": "python3"
  },
  "language_info": {
   "codemirror_mode": {
    "name": "ipython",
    "version": 3
   },
   "file_extension": ".py",
   "mimetype": "text/x-python",
   "name": "python",
   "nbconvert_exporter": "python",
   "pygments_lexer": "ipython3",
   "version": "3.6.8"
  }
 },
 "nbformat": 4,
 "nbformat_minor": 2
}
